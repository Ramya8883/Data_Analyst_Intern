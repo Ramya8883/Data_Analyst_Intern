{
 "cells": [
  {
   "cell_type": "markdown",
   "id": "1ec99040-8872-498b-90ff-a17aa226b342",
   "metadata": {},
   "source": [
    "# Data Analysis - IP - 3022\n"
   ]
  },
  {
   "cell_type": "markdown",
   "id": "41c32e85-781e-4576-bb71-5bd5aa68728a",
   "metadata": {},
   "source": [
    "##### Importing necessary libraries"
   ]
  },
  {
   "cell_type": "code",
   "execution_count": 105,
   "id": "2f878fa1-8a51-4b40-bb1f-6f4f6aaf9f60",
   "metadata": {},
   "outputs": [],
   "source": [
    "import numpy as np \n",
    "import pandas as pd \n",
    "import matplotlib.pyplot as plt \n",
    "import seaborn as sns"
   ]
  },
  {
   "cell_type": "markdown",
   "id": "fb195264-6b37-4870-ba8c-8f5b74ea8cba",
   "metadata": {},
   "source": [
    "##### Reading and Understanding the Data"
   ]
  },
  {
   "cell_type": "code",
   "execution_count": 106,
   "id": "57d66f5c-535c-445c-b270-32b4a4988728",
   "metadata": {},
   "outputs": [],
   "source": [
    "data =pd.read_excel(\"Downloads\\Data analyst Data.xlsx\")"
   ]
  },
  {
   "cell_type": "code",
   "execution_count": 107,
   "id": "d98317d0-f495-4c06-8e92-8b4011aea901",
   "metadata": {},
   "outputs": [
    {
     "data": {
      "text/html": [
       "<div>\n",
       "<style scoped>\n",
       "    .dataframe tbody tr th:only-of-type {\n",
       "        vertical-align: middle;\n",
       "    }\n",
       "\n",
       "    .dataframe tbody tr th {\n",
       "        vertical-align: top;\n",
       "    }\n",
       "\n",
       "    .dataframe thead th {\n",
       "        text-align: right;\n",
       "    }\n",
       "</style>\n",
       "<table border=\"1\" class=\"dataframe\">\n",
       "  <thead>\n",
       "    <tr style=\"text-align: right;\">\n",
       "      <th></th>\n",
       "      <th>First Name</th>\n",
       "      <th>Email ID</th>\n",
       "      <th>Quantity</th>\n",
       "      <th>Events</th>\n",
       "      <th>Attendee Status</th>\n",
       "      <th>College Name</th>\n",
       "      <th>How did you come to know about this event?</th>\n",
       "      <th>Specify in \"Others\" (how did you come to know about this event)</th>\n",
       "      <th>Designation</th>\n",
       "      <th>Year of Graduation</th>\n",
       "      <th>City</th>\n",
       "      <th>CGPA</th>\n",
       "      <th>Experience with python (Months)</th>\n",
       "      <th>Family Income</th>\n",
       "      <th>Expected salary (Lac)</th>\n",
       "      <th>Leadership- skills</th>\n",
       "    </tr>\n",
       "  </thead>\n",
       "  <tbody>\n",
       "    <tr>\n",
       "      <th>0</th>\n",
       "      <td>ANIKET</td>\n",
       "      <td>aniket@xyz.com</td>\n",
       "      <td>1</td>\n",
       "      <td>Art of Resume Building</td>\n",
       "      <td>Attending</td>\n",
       "      <td>D Y PATIL INSTITUTE OF MCA AND MANAGEMENT AKUR...</td>\n",
       "      <td>Email</td>\n",
       "      <td>NaN</td>\n",
       "      <td>Students</td>\n",
       "      <td>2024</td>\n",
       "      <td>Patna</td>\n",
       "      <td>6.7</td>\n",
       "      <td>7</td>\n",
       "      <td>7 Lakh+</td>\n",
       "      <td>6</td>\n",
       "      <td>yes</td>\n",
       "    </tr>\n",
       "    <tr>\n",
       "      <th>1</th>\n",
       "      <td>Dhanshree</td>\n",
       "      <td>dhanshree@xyz.com</td>\n",
       "      <td>1</td>\n",
       "      <td>Art of Resume Building</td>\n",
       "      <td>Attending</td>\n",
       "      <td>AP SHAH INSTITUTE OF TECHNOLOGY</td>\n",
       "      <td>Others</td>\n",
       "      <td>College</td>\n",
       "      <td>Students</td>\n",
       "      <td>2024</td>\n",
       "      <td>Amravati</td>\n",
       "      <td>8.2</td>\n",
       "      <td>3</td>\n",
       "      <td>0-2 Lakh</td>\n",
       "      <td>7</td>\n",
       "      <td>no</td>\n",
       "    </tr>\n",
       "    <tr>\n",
       "      <th>2</th>\n",
       "      <td>Dhiraj</td>\n",
       "      <td>dhiraj@xyz.com</td>\n",
       "      <td>1</td>\n",
       "      <td>Art of Resume Building</td>\n",
       "      <td>Attending</td>\n",
       "      <td>Don Bosco College of Engineering Fatorda Goa</td>\n",
       "      <td>Email</td>\n",
       "      <td>NaN</td>\n",
       "      <td>Students</td>\n",
       "      <td>2023</td>\n",
       "      <td>Kunrool</td>\n",
       "      <td>6.5</td>\n",
       "      <td>4</td>\n",
       "      <td>5-7 Lakh</td>\n",
       "      <td>7</td>\n",
       "      <td>no</td>\n",
       "    </tr>\n",
       "    <tr>\n",
       "      <th>3</th>\n",
       "      <td>Pooja</td>\n",
       "      <td>pooja@xyz.com</td>\n",
       "      <td>1</td>\n",
       "      <td>Art of Resume Building</td>\n",
       "      <td>Attending</td>\n",
       "      <td>Pillai College of Engineering New Panvel</td>\n",
       "      <td>Email</td>\n",
       "      <td>NaN</td>\n",
       "      <td>Students</td>\n",
       "      <td>2025</td>\n",
       "      <td>Tirupati</td>\n",
       "      <td>8.7</td>\n",
       "      <td>7</td>\n",
       "      <td>2-5 Lakh</td>\n",
       "      <td>8</td>\n",
       "      <td>no</td>\n",
       "    </tr>\n",
       "    <tr>\n",
       "      <th>4</th>\n",
       "      <td>Aayush</td>\n",
       "      <td>aayush@xyz.com</td>\n",
       "      <td>1</td>\n",
       "      <td>Art of Resume Building</td>\n",
       "      <td>Attending</td>\n",
       "      <td>St Xavier's College</td>\n",
       "      <td>Instagram | LinkedIn | Cloud Counselage Website</td>\n",
       "      <td>NaN</td>\n",
       "      <td>Students</td>\n",
       "      <td>2024</td>\n",
       "      <td>Vijaywada</td>\n",
       "      <td>9.1</td>\n",
       "      <td>3</td>\n",
       "      <td>0-2 Lakh</td>\n",
       "      <td>10</td>\n",
       "      <td>yes</td>\n",
       "    </tr>\n",
       "  </tbody>\n",
       "</table>\n",
       "</div>"
      ],
      "text/plain": [
       "  First Name           Email ID  Quantity                  Events  \\\n",
       "0     ANIKET     aniket@xyz.com         1  Art of Resume Building   \n",
       "1  Dhanshree  dhanshree@xyz.com         1  Art of Resume Building   \n",
       "2     Dhiraj     dhiraj@xyz.com         1  Art of Resume Building   \n",
       "3      Pooja      pooja@xyz.com         1  Art of Resume Building   \n",
       "4     Aayush     aayush@xyz.com         1  Art of Resume Building   \n",
       "\n",
       "  Attendee Status                                       College Name  \\\n",
       "0       Attending  D Y PATIL INSTITUTE OF MCA AND MANAGEMENT AKUR...   \n",
       "1       Attending                   AP SHAH INSTITUTE OF TECHNOLOGY    \n",
       "2       Attending       Don Bosco College of Engineering Fatorda Goa   \n",
       "3       Attending           Pillai College of Engineering New Panvel   \n",
       "4       Attending                               St Xavier's College    \n",
       "\n",
       "        How did you come to know about this event?  \\\n",
       "0                                            Email   \n",
       "1                                           Others   \n",
       "2                                            Email   \n",
       "3                                            Email   \n",
       "4  Instagram | LinkedIn | Cloud Counselage Website   \n",
       "\n",
       "  Specify in \"Others\" (how did you come to know about this event) Designation  \\\n",
       "0                                                NaN                 Students   \n",
       "1                                            College                 Students   \n",
       "2                                                NaN                 Students   \n",
       "3                                                NaN                 Students   \n",
       "4                                                NaN                 Students   \n",
       "\n",
       "   Year of Graduation       City  CGPA  Experience with python (Months)  \\\n",
       "0                2024      Patna   6.7                                7   \n",
       "1                2024   Amravati   8.2                                3   \n",
       "2                2023    Kunrool   6.5                                4   \n",
       "3                2025   Tirupati   8.7                                7   \n",
       "4                2024  Vijaywada   9.1                                3   \n",
       "\n",
       "  Family Income  Expected salary (Lac) Leadership- skills  \n",
       "0       7 Lakh+                      6                yes  \n",
       "1      0-2 Lakh                      7                 no  \n",
       "2      5-7 Lakh                      7                 no  \n",
       "3      2-5 Lakh                      8                 no  \n",
       "4      0-2 Lakh                     10                yes  "
      ]
     },
     "execution_count": 107,
     "metadata": {},
     "output_type": "execute_result"
    }
   ],
   "source": [
    "data.head()"
   ]
  },
  {
   "cell_type": "code",
   "execution_count": 108,
   "id": "dfa6afd1-cfef-4cdb-8b92-4a1ff04f3391",
   "metadata": {},
   "outputs": [
    {
     "name": "stdout",
     "output_type": "stream",
     "text": [
      "<class 'pandas.core.frame.DataFrame'>\n",
      "RangeIndex: 4894 entries, 0 to 4893\n",
      "Data columns (total 16 columns):\n",
      " #   Column                                                           Non-Null Count  Dtype  \n",
      "---  ------                                                           --------------  -----  \n",
      " 0   First Name                                                       4894 non-null   object \n",
      " 1   Email ID                                                         4894 non-null   object \n",
      " 2   Quantity                                                         4894 non-null   int64  \n",
      " 3   Events                                                           4894 non-null   object \n",
      " 4   Attendee Status                                                  4894 non-null   object \n",
      " 5   College Name                                                     4879 non-null   object \n",
      " 6   How did you come to know about this event?                       2678 non-null   object \n",
      " 7   Specify in \"Others\" (how did you come to know about this event)  89 non-null     object \n",
      " 8   Designation                                                      4894 non-null   object \n",
      " 9   Year of Graduation                                               4894 non-null   int64  \n",
      " 10  City                                                             4894 non-null   object \n",
      " 11  CGPA                                                             4894 non-null   float64\n",
      " 12  Experience with python (Months)                                  4894 non-null   int64  \n",
      " 13  Family Income                                                    4894 non-null   object \n",
      " 14  Expected salary (Lac)                                            4894 non-null   int64  \n",
      " 15  Leadership- skills                                               4894 non-null   object \n",
      "dtypes: float64(1), int64(4), object(11)\n",
      "memory usage: 611.9+ KB\n"
     ]
    }
   ],
   "source": [
    "data.info()"
   ]
  },
  {
   "cell_type": "code",
   "execution_count": 109,
   "id": "6ef02e35-36ca-4b6f-a685-9bc9a3ae9ccd",
   "metadata": {},
   "outputs": [
    {
     "data": {
      "text/plain": [
       "(4894, 16)"
      ]
     },
     "execution_count": 109,
     "metadata": {},
     "output_type": "execute_result"
    }
   ],
   "source": [
    "data.shape"
   ]
  },
  {
   "cell_type": "code",
   "execution_count": 110,
   "id": "94abff46-f3af-49f0-b1eb-5fec04cc83b4",
   "metadata": {},
   "outputs": [
    {
     "data": {
      "text/plain": [
       "First Name                                                            0\n",
       "Email ID                                                              0\n",
       "Quantity                                                              0\n",
       "Events                                                                0\n",
       "Attendee Status                                                       0\n",
       "College Name                                                         15\n",
       "How did you come to know about this event?                         2216\n",
       "Specify in \"Others\" (how did you come to know about this event)    4805\n",
       "Designation                                                           0\n",
       "Year of Graduation                                                    0\n",
       "City                                                                  0\n",
       "CGPA                                                                  0\n",
       "Experience with python (Months)                                       0\n",
       "Family Income                                                         0\n",
       "Expected salary (Lac)                                                 0\n",
       "Leadership- skills                                                    0\n",
       "dtype: int64"
      ]
     },
     "execution_count": 110,
     "metadata": {},
     "output_type": "execute_result"
    }
   ],
   "source": [
    "data.isnull().sum()"
   ]
  },
  {
   "cell_type": "markdown",
   "id": "dae0ee43-ce83-4d95-8c6a-b8dcef3d2a89",
   "metadata": {},
   "source": [
    "### answering the given questions\n"
   ]
  },
  {
   "cell_type": "markdown",
   "id": "e3116995-885c-4bdb-8fed-2d79f9526b9c",
   "metadata": {},
   "source": [
    "#### Question 1)"
   ]
  },
  {
   "cell_type": "markdown",
   "id": "605bf27f-34ad-4692-832c-6383e51bb42e",
   "metadata": {},
   "source": [
    "##### how many unique students are included in the dataset "
   ]
  },
  {
   "cell_type": "code",
   "execution_count": 144,
   "id": "a3197cdf-e8bf-4611-9446-d8a1f240d9ff",
   "metadata": {},
   "outputs": [
    {
     "data": {
      "text/plain": [
       "0             ANIKET\n",
       "1          Dhanshree\n",
       "2             Dhiraj\n",
       "3              Pooja\n",
       "4             Aayush\n",
       "            ...     \n",
       "4889     Patel Niraj\n",
       "4890           VIDIT\n",
       "4891    Suryaprakash\n",
       "4892        Saif ali\n",
       "4893         Lankesh\n",
       "Name: First Name, Length: 4894, dtype: object"
      ]
     },
     "execution_count": 144,
     "metadata": {},
     "output_type": "execute_result"
    }
   ],
   "source": [
    "data['First Name']\n"
   ]
  },
  {
   "cell_type": "code",
   "execution_count": 145,
   "id": "baa0af7d-3292-4537-8f27-d3c3f113a99f",
   "metadata": {},
   "outputs": [
    {
     "data": {
      "text/plain": [
       "4894"
      ]
     },
     "execution_count": 145,
     "metadata": {},
     "output_type": "execute_result"
    }
   ],
   "source": [
    "4894"
   ]
  },
  {
   "cell_type": "code",
   "execution_count": 146,
   "id": "7dce17d1-09f9-42ac-85fc-788f0176f84b",
   "metadata": {},
   "outputs": [
    {
     "data": {
      "text/plain": [
       "2570"
      ]
     },
     "execution_count": 146,
     "metadata": {},
     "output_type": "execute_result"
    }
   ],
   "source": [
    "data['First Name'].duplicated().sum()"
   ]
  },
  {
   "cell_type": "code",
   "execution_count": 147,
   "id": "e3a284dc-2b4b-4c32-ac10-bd3ea4f73b54",
   "metadata": {},
   "outputs": [
    {
     "data": {
      "text/plain": [
       "2324"
      ]
     },
     "execution_count": 147,
     "metadata": {},
     "output_type": "execute_result"
    }
   ],
   "source": [
    "4894-2570\n"
   ]
  },
  {
   "cell_type": "code",
   "execution_count": 148,
   "id": "92a4d68d-2231-49e9-a5bb-74a2b704e19f",
   "metadata": {},
   "outputs": [
    {
     "data": {
      "text/html": [
       "<div>\n",
       "<style scoped>\n",
       "    .dataframe tbody tr th:only-of-type {\n",
       "        vertical-align: middle;\n",
       "    }\n",
       "\n",
       "    .dataframe tbody tr th {\n",
       "        vertical-align: top;\n",
       "    }\n",
       "\n",
       "    .dataframe thead th {\n",
       "        text-align: right;\n",
       "    }\n",
       "</style>\n",
       "<table border=\"1\" class=\"dataframe\">\n",
       "  <thead>\n",
       "    <tr style=\"text-align: right;\">\n",
       "      <th></th>\n",
       "      <th>First Name</th>\n",
       "      <th>Email ID</th>\n",
       "      <th>Quantity</th>\n",
       "      <th>Events</th>\n",
       "      <th>Attendee Status</th>\n",
       "      <th>College Name</th>\n",
       "      <th>How did you come to know about this event?</th>\n",
       "      <th>Specify in \"Others\" (how did you come to know about this event)</th>\n",
       "      <th>Designation</th>\n",
       "      <th>Year of Graduation</th>\n",
       "      <th>City</th>\n",
       "      <th>CGPA</th>\n",
       "      <th>Experience with python (Months)</th>\n",
       "      <th>Family Income</th>\n",
       "      <th>Expected salary (Lac)</th>\n",
       "      <th>Leadership- skills</th>\n",
       "      <th>Income</th>\n",
       "    </tr>\n",
       "  </thead>\n",
       "  <tbody>\n",
       "    <tr>\n",
       "      <th>27</th>\n",
       "      <td>Dhanshree</td>\n",
       "      <td>dhanshree@xyz.com</td>\n",
       "      <td>1</td>\n",
       "      <td>Art of Resume Building</td>\n",
       "      <td>Attending</td>\n",
       "      <td>Pillai College of Engineering New Panvel</td>\n",
       "      <td>Whatsapp | Others</td>\n",
       "      <td>College</td>\n",
       "      <td>Students</td>\n",
       "      <td>2025</td>\n",
       "      <td>Diu</td>\n",
       "      <td>8.9</td>\n",
       "      <td>3</td>\n",
       "      <td>2-5 Lakh</td>\n",
       "      <td>9</td>\n",
       "      <td>yes</td>\n",
       "      <td>5</td>\n",
       "    </tr>\n",
       "    <tr>\n",
       "      <th>29</th>\n",
       "      <td>Pooja</td>\n",
       "      <td>pooja@xyz.com</td>\n",
       "      <td>1</td>\n",
       "      <td>Art of Resume Building</td>\n",
       "      <td>Attending</td>\n",
       "      <td>Vidyalankar Institute of Technology, Mumbai</td>\n",
       "      <td>Whatsapp</td>\n",
       "      <td>NaN</td>\n",
       "      <td>Students</td>\n",
       "      <td>2023</td>\n",
       "      <td>Delhi</td>\n",
       "      <td>8.5</td>\n",
       "      <td>3</td>\n",
       "      <td>2-5 Lakh</td>\n",
       "      <td>9</td>\n",
       "      <td>no</td>\n",
       "      <td>5</td>\n",
       "    </tr>\n",
       "    <tr>\n",
       "      <th>41</th>\n",
       "      <td>Aayush</td>\n",
       "      <td>aayush@xyz.com</td>\n",
       "      <td>1</td>\n",
       "      <td>Art of Resume Building</td>\n",
       "      <td>Attending</td>\n",
       "      <td>Symbiosis Institute of Technology, Pune</td>\n",
       "      <td>Instagram | LinkedIn | Cloud Counselage Website</td>\n",
       "      <td>NaN</td>\n",
       "      <td>Students</td>\n",
       "      <td>2023</td>\n",
       "      <td>Surat</td>\n",
       "      <td>8.7</td>\n",
       "      <td>7</td>\n",
       "      <td>0-2 Lakh</td>\n",
       "      <td>5</td>\n",
       "      <td>no</td>\n",
       "      <td>2</td>\n",
       "    </tr>\n",
       "    <tr>\n",
       "      <th>42</th>\n",
       "      <td>Mrunali</td>\n",
       "      <td>mrunali@xyz.com</td>\n",
       "      <td>1</td>\n",
       "      <td>Art of Resume Building</td>\n",
       "      <td>Attending</td>\n",
       "      <td>MIT Academy Of Engineering ,Alandi</td>\n",
       "      <td>Whatsapp</td>\n",
       "      <td>NaN</td>\n",
       "      <td>Students</td>\n",
       "      <td>2023</td>\n",
       "      <td>Valsad</td>\n",
       "      <td>9.5</td>\n",
       "      <td>7</td>\n",
       "      <td>0-2 Lakh</td>\n",
       "      <td>21</td>\n",
       "      <td>yes</td>\n",
       "      <td>2</td>\n",
       "    </tr>\n",
       "    <tr>\n",
       "      <th>43</th>\n",
       "      <td>Durga</td>\n",
       "      <td>durga@xyz.com</td>\n",
       "      <td>1</td>\n",
       "      <td>Art of Resume Building</td>\n",
       "      <td>Attending</td>\n",
       "      <td>A. C. Patil College of Engineering</td>\n",
       "      <td>Whatsapp</td>\n",
       "      <td>NaN</td>\n",
       "      <td>Students</td>\n",
       "      <td>2026</td>\n",
       "      <td>Ambala</td>\n",
       "      <td>6.9</td>\n",
       "      <td>3</td>\n",
       "      <td>0-2 Lakh</td>\n",
       "      <td>9</td>\n",
       "      <td>no</td>\n",
       "      <td>2</td>\n",
       "    </tr>\n",
       "    <tr>\n",
       "      <th>...</th>\n",
       "      <td>...</td>\n",
       "      <td>...</td>\n",
       "      <td>...</td>\n",
       "      <td>...</td>\n",
       "      <td>...</td>\n",
       "      <td>...</td>\n",
       "      <td>...</td>\n",
       "      <td>...</td>\n",
       "      <td>...</td>\n",
       "      <td>...</td>\n",
       "      <td>...</td>\n",
       "      <td>...</td>\n",
       "      <td>...</td>\n",
       "      <td>...</td>\n",
       "      <td>...</td>\n",
       "      <td>...</td>\n",
       "      <td>...</td>\n",
       "    </tr>\n",
       "    <tr>\n",
       "      <th>4652</th>\n",
       "      <td>Elaine</td>\n",
       "      <td>elaine@xyz.com</td>\n",
       "      <td>1</td>\n",
       "      <td>Skill and Employability Enhancement</td>\n",
       "      <td>Attending</td>\n",
       "      <td>s.i.e.s. graduate school of technology, nerul,...</td>\n",
       "      <td>NaN</td>\n",
       "      <td>NaN</td>\n",
       "      <td>Students</td>\n",
       "      <td>2024</td>\n",
       "      <td>Matheran</td>\n",
       "      <td>9.6</td>\n",
       "      <td>6</td>\n",
       "      <td>0-2 Lakh</td>\n",
       "      <td>21</td>\n",
       "      <td>no</td>\n",
       "      <td>2</td>\n",
       "    </tr>\n",
       "    <tr>\n",
       "      <th>4653</th>\n",
       "      <td>Rosalie</td>\n",
       "      <td>rosalie@xyz.com</td>\n",
       "      <td>1</td>\n",
       "      <td>Skill and Employability Enhancement</td>\n",
       "      <td>Attending</td>\n",
       "      <td>g h raisoni institut of engineering and techno...</td>\n",
       "      <td>NaN</td>\n",
       "      <td>NaN</td>\n",
       "      <td>Students</td>\n",
       "      <td>2023</td>\n",
       "      <td>Nashik</td>\n",
       "      <td>7.5</td>\n",
       "      <td>6</td>\n",
       "      <td>0-2 Lakh</td>\n",
       "      <td>9</td>\n",
       "      <td>yes</td>\n",
       "      <td>2</td>\n",
       "    </tr>\n",
       "    <tr>\n",
       "      <th>4654</th>\n",
       "      <td>Brittney</td>\n",
       "      <td>brittney@xyz.com</td>\n",
       "      <td>1</td>\n",
       "      <td>Skill and Employability Enhancement</td>\n",
       "      <td>Attending</td>\n",
       "      <td>government polytechnic gandhinagar</td>\n",
       "      <td>NaN</td>\n",
       "      <td>NaN</td>\n",
       "      <td>Students</td>\n",
       "      <td>2023</td>\n",
       "      <td>Pune</td>\n",
       "      <td>7.9</td>\n",
       "      <td>8</td>\n",
       "      <td>0-2 Lakh</td>\n",
       "      <td>9</td>\n",
       "      <td>yes</td>\n",
       "      <td>2</td>\n",
       "    </tr>\n",
       "    <tr>\n",
       "      <th>4655</th>\n",
       "      <td>Margret</td>\n",
       "      <td>margret@xyz.com</td>\n",
       "      <td>1</td>\n",
       "      <td>Skill and Employability Enhancement</td>\n",
       "      <td>Attending</td>\n",
       "      <td>vishwakarma institute of technology, pune</td>\n",
       "      <td>NaN</td>\n",
       "      <td>NaN</td>\n",
       "      <td>Students</td>\n",
       "      <td>2023</td>\n",
       "      <td>Vasai</td>\n",
       "      <td>8.0</td>\n",
       "      <td>6</td>\n",
       "      <td>0-2 Lakh</td>\n",
       "      <td>8</td>\n",
       "      <td>no</td>\n",
       "      <td>2</td>\n",
       "    </tr>\n",
       "    <tr>\n",
       "      <th>4656</th>\n",
       "      <td>Vicente</td>\n",
       "      <td>vicente@xyz.com</td>\n",
       "      <td>1</td>\n",
       "      <td>Skill and Employability Enhancement</td>\n",
       "      <td>Attending</td>\n",
       "      <td>symbiosis institute of technology, pune</td>\n",
       "      <td>NaN</td>\n",
       "      <td>NaN</td>\n",
       "      <td>Students</td>\n",
       "      <td>2024</td>\n",
       "      <td>Mahe</td>\n",
       "      <td>9.5</td>\n",
       "      <td>5</td>\n",
       "      <td>0-2 Lakh</td>\n",
       "      <td>17</td>\n",
       "      <td>no</td>\n",
       "      <td>2</td>\n",
       "    </tr>\n",
       "  </tbody>\n",
       "</table>\n",
       "<p>2570 rows × 17 columns</p>\n",
       "</div>"
      ],
      "text/plain": [
       "     First Name           Email ID  Quantity  \\\n",
       "27    Dhanshree  dhanshree@xyz.com         1   \n",
       "29        Pooja      pooja@xyz.com         1   \n",
       "41       Aayush     aayush@xyz.com         1   \n",
       "42      Mrunali    mrunali@xyz.com         1   \n",
       "43        Durga      durga@xyz.com         1   \n",
       "...         ...                ...       ...   \n",
       "4652     Elaine     elaine@xyz.com         1   \n",
       "4653    Rosalie    rosalie@xyz.com         1   \n",
       "4654   Brittney   brittney@xyz.com         1   \n",
       "4655    Margret    margret@xyz.com         1   \n",
       "4656    Vicente    vicente@xyz.com         1   \n",
       "\n",
       "                                   Events Attendee Status  \\\n",
       "27                 Art of Resume Building       Attending   \n",
       "29                 Art of Resume Building       Attending   \n",
       "41                 Art of Resume Building       Attending   \n",
       "42                 Art of Resume Building       Attending   \n",
       "43                 Art of Resume Building       Attending   \n",
       "...                                   ...             ...   \n",
       "4652  Skill and Employability Enhancement       Attending   \n",
       "4653  Skill and Employability Enhancement       Attending   \n",
       "4654  Skill and Employability Enhancement       Attending   \n",
       "4655  Skill and Employability Enhancement       Attending   \n",
       "4656  Skill and Employability Enhancement       Attending   \n",
       "\n",
       "                                           College Name  \\\n",
       "27             Pillai College of Engineering New Panvel   \n",
       "29          Vidyalankar Institute of Technology, Mumbai   \n",
       "41              Symbiosis Institute of Technology, Pune   \n",
       "42                   MIT Academy Of Engineering ,Alandi   \n",
       "43                   A. C. Patil College of Engineering   \n",
       "...                                                 ...   \n",
       "4652  s.i.e.s. graduate school of technology, nerul,...   \n",
       "4653  g h raisoni institut of engineering and techno...   \n",
       "4654                 government polytechnic gandhinagar   \n",
       "4655          vishwakarma institute of technology, pune   \n",
       "4656            symbiosis institute of technology, pune   \n",
       "\n",
       "           How did you come to know about this event?  \\\n",
       "27                                  Whatsapp | Others   \n",
       "29                                           Whatsapp   \n",
       "41    Instagram | LinkedIn | Cloud Counselage Website   \n",
       "42                                           Whatsapp   \n",
       "43                                           Whatsapp   \n",
       "...                                               ...   \n",
       "4652                                              NaN   \n",
       "4653                                              NaN   \n",
       "4654                                              NaN   \n",
       "4655                                              NaN   \n",
       "4656                                              NaN   \n",
       "\n",
       "     Specify in \"Others\" (how did you come to know about this event)  \\\n",
       "27                                              College                \n",
       "29                                                  NaN                \n",
       "41                                                  NaN                \n",
       "42                                                  NaN                \n",
       "43                                                  NaN                \n",
       "...                                                 ...                \n",
       "4652                                                NaN                \n",
       "4653                                                NaN                \n",
       "4654                                                NaN                \n",
       "4655                                                NaN                \n",
       "4656                                                NaN                \n",
       "\n",
       "     Designation  Year of Graduation      City  CGPA  \\\n",
       "27      Students                2025       Diu   8.9   \n",
       "29      Students                2023     Delhi   8.5   \n",
       "41      Students                2023     Surat   8.7   \n",
       "42      Students                2023    Valsad   9.5   \n",
       "43      Students                2026    Ambala   6.9   \n",
       "...          ...                 ...       ...   ...   \n",
       "4652    Students                2024  Matheran   9.6   \n",
       "4653    Students                2023    Nashik   7.5   \n",
       "4654    Students                2023      Pune   7.9   \n",
       "4655    Students                2023     Vasai   8.0   \n",
       "4656    Students                2024      Mahe   9.5   \n",
       "\n",
       "      Experience with python (Months) Family Income  Expected salary (Lac)  \\\n",
       "27                                  3      2-5 Lakh                      9   \n",
       "29                                  3      2-5 Lakh                      9   \n",
       "41                                  7      0-2 Lakh                      5   \n",
       "42                                  7      0-2 Lakh                     21   \n",
       "43                                  3      0-2 Lakh                      9   \n",
       "...                               ...           ...                    ...   \n",
       "4652                                6      0-2 Lakh                     21   \n",
       "4653                                6      0-2 Lakh                      9   \n",
       "4654                                8      0-2 Lakh                      9   \n",
       "4655                                6      0-2 Lakh                      8   \n",
       "4656                                5      0-2 Lakh                     17   \n",
       "\n",
       "     Leadership- skills  Income  \n",
       "27                  yes       5  \n",
       "29                   no       5  \n",
       "41                   no       2  \n",
       "42                  yes       2  \n",
       "43                   no       2  \n",
       "...                 ...     ...  \n",
       "4652                no        2  \n",
       "4653                yes       2  \n",
       "4654                yes       2  \n",
       "4655                 no       2  \n",
       "4656                no        2  \n",
       "\n",
       "[2570 rows x 17 columns]"
      ]
     },
     "execution_count": 148,
     "metadata": {},
     "output_type": "execute_result"
    }
   ],
   "source": [
    "data[data['First Name'].duplicated()]"
   ]
  },
  {
   "cell_type": "markdown",
   "id": "ddad65b8-6979-4de0-86a2-6dd9c54db0ff",
   "metadata": {},
   "source": [
    "##### Answer\n",
    "Seems like there are 2570 duplicates in first name with a total rows of 4894\n",
    "so The number of unique students are 2324"
   ]
  },
  {
   "cell_type": "markdown",
   "id": "cc392e2e-8c4f-4fb0-9d7a-d558bf642ea3",
   "metadata": {},
   "source": [
    "#### question2:\n"
   ]
  },
  {
   "cell_type": "markdown",
   "id": "5318f3b6-2883-4b4a-a1e8-b69936080c50",
   "metadata": {},
   "source": [
    "##### what is the average CGPA of the students"
   ]
  },
  {
   "cell_type": "code",
   "execution_count": 149,
   "id": "c7011b1e-20bc-42fc-b1a9-039dcbb7bffb",
   "metadata": {},
   "outputs": [
    {
     "data": {
      "text/plain": [
       "8.038475684511647"
      ]
     },
     "execution_count": 149,
     "metadata": {},
     "output_type": "execute_result"
    }
   ],
   "source": [
    "data['CGPA'].mean()"
   ]
  },
  {
   "cell_type": "markdown",
   "id": "a6f779d5-055d-44a8-be1f-6ba15979cdb3",
   "metadata": {},
   "source": [
    "##### Answer:\n",
    "The average CGPA is 8.038475684511647"
   ]
  },
  {
   "cell_type": "code",
   "execution_count": 150,
   "id": "03563e63-a1fa-4144-9ac6-82460aaf5c2d",
   "metadata": {},
   "outputs": [
    {
     "data": {
      "text/plain": [
       "0       2024\n",
       "1       2024\n",
       "2       2023\n",
       "3       2025\n",
       "4       2024\n",
       "        ... \n",
       "4889    2024\n",
       "4890    2023\n",
       "4891    2024\n",
       "4892    2024\n",
       "4893    2025\n",
       "Name: Year of Graduation, Length: 4894, dtype: int64"
      ]
     },
     "execution_count": 150,
     "metadata": {},
     "output_type": "execute_result"
    }
   ],
   "source": [
    "data[\"Year of Graduation\"]"
   ]
  },
  {
   "cell_type": "markdown",
   "id": "0b3f7814-d390-4dab-96fd-746c1178de20",
   "metadata": {},
   "source": [
    "#### Question 3:\n"
   ]
  },
  {
   "cell_type": "markdown",
   "id": "f0ab3426-bed7-44d4-b2aa-9b36c332e55f",
   "metadata": {},
   "source": [
    "##### Distribution of students across each year "
   ]
  },
  {
   "cell_type": "code",
   "execution_count": 157,
   "id": "c8d31baf-1b33-4c6e-abc1-1c8d7043eae2",
   "metadata": {},
   "outputs": [],
   "source": [
    "Year_Distribution=data.groupby(\"Year of Graduation\")['First Name'].count()"
   ]
  },
  {
   "cell_type": "code",
   "execution_count": 158,
   "id": "21ad3325-5ebf-44ad-8f08-95d0f80e8273",
   "metadata": {},
   "outputs": [
    {
     "data": {
      "text/plain": [
       "Year of Graduation\n",
       "2023    1536\n",
       "2024    1511\n",
       "2025    1292\n",
       "2026     555\n",
       "Name: First Name, dtype: int64"
      ]
     },
     "execution_count": 158,
     "metadata": {},
     "output_type": "execute_result"
    }
   ],
   "source": [
    "Year_Distribution\n"
   ]
  },
  {
   "cell_type": "code",
   "execution_count": 159,
   "id": "4750548a-f020-4ed2-bbc3-00aa7da80d8a",
   "metadata": {},
   "outputs": [],
   "source": [
    "year=pd.DataFrame()\n",
    "year['year']=[2023,2024,2025,2026]\n",
    "year['students_count']=[1536,1511,1292,555]"
   ]
  },
  {
   "cell_type": "code",
   "execution_count": 160,
   "id": "799fe5e6-2b5f-45a6-a5cb-2f5304e7ba6a",
   "metadata": {},
   "outputs": [
    {
     "data": {
      "text/html": [
       "<div>\n",
       "<style scoped>\n",
       "    .dataframe tbody tr th:only-of-type {\n",
       "        vertical-align: middle;\n",
       "    }\n",
       "\n",
       "    .dataframe tbody tr th {\n",
       "        vertical-align: top;\n",
       "    }\n",
       "\n",
       "    .dataframe thead th {\n",
       "        text-align: right;\n",
       "    }\n",
       "</style>\n",
       "<table border=\"1\" class=\"dataframe\">\n",
       "  <thead>\n",
       "    <tr style=\"text-align: right;\">\n",
       "      <th></th>\n",
       "      <th>year</th>\n",
       "      <th>students_count</th>\n",
       "    </tr>\n",
       "  </thead>\n",
       "  <tbody>\n",
       "    <tr>\n",
       "      <th>0</th>\n",
       "      <td>2023</td>\n",
       "      <td>1536</td>\n",
       "    </tr>\n",
       "    <tr>\n",
       "      <th>1</th>\n",
       "      <td>2024</td>\n",
       "      <td>1511</td>\n",
       "    </tr>\n",
       "    <tr>\n",
       "      <th>2</th>\n",
       "      <td>2025</td>\n",
       "      <td>1292</td>\n",
       "    </tr>\n",
       "    <tr>\n",
       "      <th>3</th>\n",
       "      <td>2026</td>\n",
       "      <td>555</td>\n",
       "    </tr>\n",
       "  </tbody>\n",
       "</table>\n",
       "</div>"
      ],
      "text/plain": [
       "   year  students_count\n",
       "0  2023            1536\n",
       "1  2024            1511\n",
       "2  2025            1292\n",
       "3  2026             555"
      ]
     },
     "execution_count": 160,
     "metadata": {},
     "output_type": "execute_result"
    }
   ],
   "source": [
    "year"
   ]
  },
  {
   "cell_type": "code",
   "execution_count": 161,
   "id": "24c9320d-7978-4117-b636-e95e1c7208d9",
   "metadata": {},
   "outputs": [
    {
     "data": {
      "text/plain": [
       "<Axes: xlabel='year', ylabel='students_count'>"
      ]
     },
     "execution_count": 161,
     "metadata": {},
     "output_type": "execute_result"
    },
    {
     "data": {
      "image/png": "[encoded data removed]",
      "text/plain": [
       "<Figure size 640x480 with 1 Axes>"
      ]
     },
     "metadata": {},
     "output_type": "display_data"
    }
   ],
   "source": [
    "sns.barplot(x='year',y='students_count',data=year)"
   ]
  },
  {
   "cell_type": "markdown",
   "id": "6ff41554-0b1b-45d7-9f23-b7833e532a51",
   "metadata": {},
   "source": [
    "#### Question 4:\n"
   ]
  },
  {
   "cell_type": "markdown",
   "id": "c4f5c895-062c-4919-91fd-80653d269060",
   "metadata": {},
   "source": [
    "##### what is the distribution of students python experience"
   ]
  },
  {
   "cell_type": "code",
   "execution_count": 162,
   "id": "ad6cf301-6501-458d-a8be-516ae8e25488",
   "metadata": {},
   "outputs": [
    {
     "data": {
      "text/plain": [
       "Experience with python (Months)\n",
       "5    1242\n",
       "3    1008\n",
       "8     800\n",
       "6     738\n",
       "7     640\n",
       "4     466\n",
       "Name: count, dtype: int64"
      ]
     },
     "execution_count": 162,
     "metadata": {},
     "output_type": "execute_result"
    }
   ],
   "source": [
    "data['Experience with python (Months)'].value_counts()"
   ]
  },
  {
   "cell_type": "code",
   "execution_count": 163,
   "id": "4d99f376-f7e0-4ba2-879c-1308ea163068",
   "metadata": {},
   "outputs": [
    {
     "data": {
      "text/plain": [
       "([<matplotlib.patches.Wedge at 0x256056a9c90>,\n",
       "  <matplotlib.patches.Wedge at 0x256061d8f50>,\n",
       "  <matplotlib.patches.Wedge at 0x256061d9f50>,\n",
       "  <matplotlib.patches.Wedge at 0x256061db010>,\n",
       "  <matplotlib.patches.Wedge at 0x256061e41d0>,\n",
       "  <matplotlib.patches.Wedge at 0x256061e5210>],\n",
       " [Text(0.7685257662340784, 0.7869994578361047, '5m'),\n",
       "  Text(-0.6837862276010811, 0.8616474887928838, '3m'),\n",
       "  Text(-1.0628527519308848, -0.2834502208729878, '8m'),\n",
       "  Text(-0.3490389354093375, -1.0431547447854113, '6m'),\n",
       "  Text(0.585875625374798, -0.930993958944788, '7m'),\n",
       "  Text(1.051149859972013, -0.3241665804502637, '4m')])"
      ]
     },
     "execution_count": 163,
     "metadata": {},
     "output_type": "execute_result"
    },
    {
     "data": {
      "image/png": "[encoded data removed]",
      "text/plain": [
       "<Figure size 640x480 with 1 Axes>"
      ]
     },
     "metadata": {},
     "output_type": "display_data"
    }
   ],
   "source": [
    "plt.pie(x=[1242,1008,800,738,640,466],labels=['5m','3m','8m','6m','7m','4m'],colors=(\"orange\", \"cyan\", \"brown\",\"grey\", \"indigo\", \"beige\"))"
   ]
  },
  {
   "cell_type": "markdown",
   "id": "41fa9e97-b76d-4ddd-99ff-26f1632b9bb5",
   "metadata": {},
   "source": [
    "##### Answer:\n",
    "This is the distribution of student's python experience seems like most of the students  has 5 months of experience"
   ]
  },
  {
   "cell_type": "markdown",
   "id": "4a780cc0-2310-43c9-9cd1-cfe855a56d8b",
   "metadata": {},
   "source": [
    "#### Question 5:\n"
   ]
  },
  {
   "cell_type": "markdown",
   "id": "3b9a4795-060a-4837-a42b-b807e4abc30b",
   "metadata": {},
   "source": [
    "##### what is the average Family income of the students"
   ]
  },
  {
   "cell_type": "code",
   "execution_count": 164,
   "id": "75d2da69-af69-4c49-9397-ed349b4012d5",
   "metadata": {},
   "outputs": [
    {
     "data": {
      "text/plain": [
       "Family Income\n",
       "0-2 Lakh    4525\n",
       "2-5 Lakh     200\n",
       "7 Lakh+       89\n",
       "5-7 Lakh      80\n",
       "Name: count, dtype: int64"
      ]
     },
     "execution_count": 164,
     "metadata": {},
     "output_type": "execute_result"
    }
   ],
   "source": [
    "data['Family Income'].value_counts()"
   ]
  },
  {
   "cell_type": "code",
   "execution_count": 165,
   "id": "32ab8c78-a0c8-4bff-a1dd-3f1c89f94bda",
   "metadata": {},
   "outputs": [],
   "source": [
    "def fun(x):\n",
    "    if x=='0-2 Lakh':\n",
    "        return 2\n",
    "    elif x=='2-5 Lakh':\n",
    "        return 5\n",
    "    elif x=='5-7 Lakh':\n",
    "        return 7\n",
    "    else :\n",
    "        return 8\n"
   ]
  },
  {
   "cell_type": "code",
   "execution_count": 166,
   "id": "cbd9c0cc-c54d-4511-ba28-e4637734020f",
   "metadata": {},
   "outputs": [],
   "source": [
    "data['Income']=data['Family Income'].apply(fun)"
   ]
  },
  {
   "cell_type": "code",
   "execution_count": 167,
   "id": "330bb404-0370-48d4-ae63-ce36f6bd6739",
   "metadata": {},
   "outputs": [
    {
     "data": {
      "text/plain": [
       "Income\n",
       "2    4525\n",
       "5     200\n",
       "8      89\n",
       "7      80\n",
       "Name: count, dtype: int64"
      ]
     },
     "execution_count": 167,
     "metadata": {},
     "output_type": "execute_result"
    }
   ],
   "source": [
    "data['Income'].value_counts()"
   ]
  },
  {
   "cell_type": "code",
   "execution_count": 168,
   "id": "db47df3f-944a-4cf8-a402-00acd967cfb6",
   "metadata": {},
   "outputs": [
    {
     "data": {
      "text/plain": [
       "2.3134450347364117"
      ]
     },
     "execution_count": 168,
     "metadata": {},
     "output_type": "execute_result"
    }
   ],
   "source": [
    "data['Income'].mean()"
   ]
  },
  {
   "cell_type": "markdown",
   "id": "7e9d895a-10d6-44b6-9155-4635d1ff3a9a",
   "metadata": {},
   "source": [
    "##### Answer:\n",
    "Since The family income is a categorical variable ,we are assumpting the income for family between the mentioned range \n",
    "and taking the average\n",
    "seems like the average income of the family is 2.313 or falls under the category of 2-5 l "
   ]
  },
  {
   "cell_type": "markdown",
   "id": "4cf9b405-b89d-4cb6-99fb-580a70b22006",
   "metadata": {},
   "source": [
    "##### question6:\n",
    "How does the gpa vary among different colleges"
   ]
  },
  {
   "cell_type": "code",
   "execution_count": 169,
   "id": "46287a05-9f40-45ec-b11c-b9a36d28b991",
   "metadata": {},
   "outputs": [
    {
     "name": "stdout",
     "output_type": "stream",
     "text": [
      "<class 'pandas.core.frame.DataFrame'>\n",
      "RangeIndex: 4894 entries, 0 to 4893\n",
      "Data columns (total 17 columns):\n",
      " #   Column                                                           Non-Null Count  Dtype  \n",
      "---  ------                                                           --------------  -----  \n",
      " 0   First Name                                                       4894 non-null   object \n",
      " 1   Email ID                                                         4894 non-null   object \n",
      " 2   Quantity                                                         4894 non-null   int64  \n",
      " 3   Events                                                           4894 non-null   object \n",
      " 4   Attendee Status                                                  4894 non-null   object \n",
      " 5   College Name                                                     4879 non-null   object \n",
      " 6   How did you come to know about this event?                       2678 non-null   object \n",
      " 7   Specify in \"Others\" (how did you come to know about this event)  89 non-null     object \n",
      " 8   Designation                                                      4894 non-null   object \n",
      " 9   Year of Graduation                                               4894 non-null   int64  \n",
      " 10  City                                                             4894 non-null   object \n",
      " 11  CGPA                                                             4894 non-null   float64\n",
      " 12  Experience with python (Months)                                  4894 non-null   int64  \n",
      " 13  Family Income                                                    4894 non-null   object \n",
      " 14  Expected salary (Lac)                                            4894 non-null   int64  \n",
      " 15  Leadership- skills                                               4894 non-null   object \n",
      " 16  Income                                                           4894 non-null   int64  \n",
      "dtypes: float64(1), int64(5), object(11)\n",
      "memory usage: 650.1+ KB\n"
     ]
    }
   ],
   "source": [
    "data.info()"
   ]
  },
  {
   "cell_type": "code",
   "execution_count": 170,
   "id": "e2fca4bc-d147-4a04-a010-0f24f784c901",
   "metadata": {},
   "outputs": [
    {
     "data": {
      "text/plain": [
       "College Name\n",
       "priyadarshini college of engineering, nagpur                                         261\n",
       "vidyalankar institute of technology, mumbai                                          258\n",
       "ld college of engineering, ahmedabad, gujarat                                        248\n",
       "government polytechnic gandhinagar                                                   206\n",
       "b. k. birla college of arts, science & commerce (autonomous), kalyan                 206\n",
       "kle society's college of bca, rls institute, belagavi                                189\n",
       "vishwakarma institute of technology, pune                                            186\n",
       "g h raisoni institut of engineering and technology pune                              184\n",
       "dkte society's textile and engineering institute ichalkaranji                        182\n",
       "wilson college                                                                       181\n",
       "a. c. patil college of engineering                                                   181\n",
       "mit academy of engineering ,alandi                                                   163\n",
       "new horizon institute of technology and management                                   144\n",
       "st.francis institute of technology                                                   144\n",
       "symbiosis institute of technology, pune                                              143\n",
       "late g. n. sapkal college of engineering                                             143\n",
       "pillai college of engineering new panvel                                             142\n",
       "don bosco college of engineering fatorda goa                                         142\n",
       "st xavier's college                                                                  138\n",
       "silicon institute of technology                                                      122\n",
       "adhiyamaan college of engineering                                                    122\n",
       "chhattisgarh swami vivekananda technical university teaching department bhilai       122\n",
       "lokmanya tilak college of engineering koparkhairane navi mumbai                       81\n",
       "s.i.e.s. graduate school of technology, nerul, navi mumbai                            68\n",
       "thakur institute of management studies, career development & research - [timscdr]     65\n",
       "Priyadarshini college of engineering, Nagpur                                          51\n",
       "Vidyalankar Institute of Technology, Mumbai                                           51\n",
       "LD College of engineering, Ahmedabad, Gujarat                                         50\n",
       "GOVERNMENT POLYTECHNIC GANDHINAGAR                                                    40\n",
       "B. K. Birla College of Arts, Science & Commerce (Autonomous), Kalyan                  39\n",
       "G H Raisoni institut of engineering and technology pune                               38\n",
       "KLE Society's College of BCA, RLS Institute, Belagavi                                 37\n",
       "DKTE Society's Textile And Engineering Institute Ichalkaranji                         37\n",
       "Wilson college                                                                        37\n",
       "A. C. Patil College of Engineering                                                    37\n",
       "Vishwakarma Institute of Technology, Pune                                             36\n",
       "MIT Academy Of Engineering ,Alandi                                                    34\n",
       "New horizon institute of Technology and Management                                    29\n",
       "Late G. N. Sapkal College Of Engineering                                              29\n",
       "Symbiosis Institute of Technology, Pune                                               29\n",
       "Pillai College of Engineering New Panvel                                              28\n",
       "St.Francis Institute of Technology                                                    28\n",
       "Don Bosco College of Engineering Fatorda Goa                                          28\n",
       "St Xavier's College                                                                   28\n",
       "Silicon Institute of Technology                                                       22\n",
       "CHHATTISGARH SWAMI VIVEKANANDA TECHNICAL UNIVERSITY TEACHING DEPARTMENT BHILAI        22\n",
       "ADHIYAMAAN COLLEGE OF ENGINEERING                                                     22\n",
       "d y patil institute of mca and management akurdi pune                                 20\n",
       "ap shah institute of technology                                                       20\n",
       "LOKMANYA TILAK COLLEGE OF ENGINEERING KOPARKHAIRANE NAVI MUMBAI                       18\n",
       "S.I.E.S. Graduate School Of Technology, Nerul, Navi Mumbai                            16\n",
       "THAKUR INSTITUTE OF MANAGEMENT STUDIES, CAREER DEVELOPMENT & RESEARCH - [TIMSCDR]     14\n",
       "D Y PATIL INSTITUTE OF MCA AND MANAGEMENT AKURDI PUNE                                  6\n",
       "AP SHAH INSTITUTE OF TECHNOLOGY                                                        6\n",
       "na                                                                                     6\n",
       "Name: count, dtype: int64"
      ]
     },
     "execution_count": 170,
     "metadata": {},
     "output_type": "execute_result"
    }
   ],
   "source": [
    "data['College Name'].value_counts()"
   ]
  },
  {
   "cell_type": "code",
   "execution_count": 171,
   "id": "e2fc638e-2951-4a0c-9f95-5cfef2dde30f",
   "metadata": {},
   "outputs": [
    {
     "data": {
      "text/plain": [
       "College Name\n",
       "A. C. Patil College of Engineering                                                   7.772973\n",
       "ADHIYAMAAN COLLEGE OF ENGINEERING                                                    7.645455\n",
       "AP SHAH INSTITUTE OF TECHNOLOGY                                                      8.283333\n",
       "B. K. Birla College of Arts, Science & Commerce (Autonomous), Kalyan                 8.456410\n",
       "CHHATTISGARH SWAMI VIVEKANANDA TECHNICAL UNIVERSITY TEACHING DEPARTMENT BHILAI       7.954545\n",
       "D Y PATIL INSTITUTE OF MCA AND MANAGEMENT AKURDI PUNE                                8.266667\n",
       "DKTE Society's Textile And Engineering Institute Ichalkaranji                        7.967568\n",
       "Don Bosco College of Engineering Fatorda Goa                                         8.232143\n",
       "G H Raisoni institut of engineering and technology pune                              7.889474\n",
       "GOVERNMENT POLYTECHNIC GANDHINAGAR                                                   7.755000\n",
       "KLE Society's College of BCA, RLS Institute, Belagavi                                8.018919\n",
       "LD College of engineering, Ahmedabad, Gujarat                                        7.896000\n",
       "LOKMANYA TILAK COLLEGE OF ENGINEERING KOPARKHAIRANE NAVI MUMBAI                      8.033333\n",
       "Late G. N. Sapkal College Of Engineering                                             7.900000\n",
       "MIT Academy Of Engineering ,Alandi                                                   8.282353\n",
       "New horizon institute of Technology and Management                                   8.148276\n",
       "Pillai College of Engineering New Panvel                                             7.789286\n",
       "Priyadarshini college of engineering, Nagpur                                         7.980392\n",
       "S.I.E.S. Graduate School Of Technology, Nerul, Navi Mumbai                           7.806250\n",
       "Silicon Institute of Technology                                                      8.150000\n",
       "St Xavier's College                                                                  8.578571\n",
       "St.Francis Institute of Technology                                                   7.775000\n",
       "Symbiosis Institute of Technology, Pune                                              8.303448\n",
       "THAKUR INSTITUTE OF MANAGEMENT STUDIES, CAREER DEVELOPMENT & RESEARCH - [TIMSCDR]    8.585714\n",
       "Vidyalankar Institute of Technology, Mumbai                                          8.196078\n",
       "Vishwakarma Institute of Technology, Pune                                            8.044444\n",
       "Wilson college                                                                       8.127027\n",
       "a. c. patil college of engineering                                                   7.975138\n",
       "adhiyamaan college of engineering                                                    7.956557\n",
       "ap shah institute of technology                                                      8.125000\n",
       "b. k. birla college of arts, science & commerce (autonomous), kalyan                 8.099029\n",
       "chhattisgarh swami vivekananda technical university teaching department bhilai       8.069672\n",
       "d y patil institute of mca and management akurdi pune                                8.025000\n",
       "dkte society's textile and engineering institute ichalkaranji                        8.028022\n",
       "don bosco college of engineering fatorda goa                                         7.993662\n",
       "g h raisoni institut of engineering and technology pune                              8.107609\n",
       "government polytechnic gandhinagar                                                   7.965049\n",
       "kle society's college of bca, rls institute, belagavi                                8.046032\n",
       "late g. n. sapkal college of engineering                                             8.066434\n",
       "ld college of engineering, ahmedabad, gujarat                                        8.061694\n",
       "lokmanya tilak college of engineering koparkhairane navi mumbai                      7.837037\n",
       "mit academy of engineering ,alandi                                                   8.017791\n",
       "na                                                                                   7.466667\n",
       "new horizon institute of technology and management                                   8.078472\n",
       "pillai college of engineering new panvel                                             8.090845\n",
       "priyadarshini college of engineering, nagpur                                         8.006130\n",
       "s.i.e.s. graduate school of technology, nerul, navi mumbai                           7.864706\n",
       "silicon institute of technology                                                      7.927049\n",
       "st xavier's college                                                                  8.126087\n",
       "st.francis institute of technology                                                   7.990972\n",
       "symbiosis institute of technology, pune                                              8.004895\n",
       "thakur institute of management studies, career development & research - [timscdr]    8.076923\n",
       "vidyalankar institute of technology, mumbai                                          8.104651\n",
       "vishwakarma institute of technology, pune                                            8.133333\n",
       "wilson college                                                                       8.043094\n",
       "Name: CGPA, dtype: float64"
      ]
     },
     "execution_count": 171,
     "metadata": {},
     "output_type": "execute_result"
    }
   ],
   "source": [
    "data.groupby('College Name')[\"CGPA\"].mean()"
   ]
  },
  {
   "cell_type": "markdown",
   "id": "1aa0b10d-d390-4e78-bc55-626568f1b179",
   "metadata": {},
   "source": [
    "##### Answer:\n",
    "The CGPA varies with colleges and can be found in the above list"
   ]
  },
  {
   "cell_type": "markdown",
   "id": "89b19711-bf74-47d4-a73b-ab1ad858d250",
   "metadata": {},
   "source": [
    "#### Question 7:\n"
   ]
  },
  {
   "cell_type": "markdown",
   "id": "9bd8f4ba-d78b-47f3-969c-38bc31465d81",
   "metadata": {},
   "source": [
    "##### The average CGPA of the students from each city"
   ]
  },
  {
   "cell_type": "code",
   "execution_count": 172,
   "id": "56299b8d-9c88-40a9-90b4-5d95f244e4bb",
   "metadata": {},
   "outputs": [
    {
     "data": {
      "text/plain": [
       "City\n",
       "Chandigarh    57\n",
       "Siuri         56\n",
       "Talmuk        56\n",
       "Gonda         56\n",
       "Sikar         52\n",
       "              ..\n",
       "Panipat       13\n",
       "Rohtak        13\n",
       "Rewari        13\n",
       "Karnal        13\n",
       "Amravati       6\n",
       "Name: count, Length: 177, dtype: int64"
      ]
     },
     "execution_count": 172,
     "metadata": {},
     "output_type": "execute_result"
    }
   ],
   "source": [
    "data[\"City\"].value_counts()"
   ]
  },
  {
   "cell_type": "code",
   "execution_count": 173,
   "id": "1198a932-1650-4251-8f04-3fe2448aea70",
   "metadata": {},
   "outputs": [],
   "source": [
    "City_CGPA_Average=data.groupby([\"City\"])['CGPA'].mean()"
   ]
  },
  {
   "cell_type": "markdown",
   "id": "7f7be1a5-93a9-4c0b-a738-d42e9c3c80bc",
   "metadata": {},
   "source": [
    "##### Answer:\n",
    "City_CGPA_Average show all the average cgpa across all cities"
   ]
  },
  {
   "cell_type": "markdown",
   "id": "27f6510e-d8e2-44a5-9a01-ea8072d2ed7d",
   "metadata": {},
   "source": [
    "#### Question8:\n"
   ]
  },
  {
   "cell_type": "markdown",
   "id": "78b73d99-4868-420e-9f98-4a41f825868a",
   "metadata": {},
   "source": [
    "##### Can we idenity any relationship between family income and cgpa"
   ]
  },
  {
   "cell_type": "code",
   "execution_count": 174,
   "id": "6c3a2104-5e79-47b2-a8d3-369732b9aac6",
   "metadata": {},
   "outputs": [],
   "source": [
    "Income_CGPA=data.groupby([\"Family Income\"])['CGPA'].mean()"
   ]
  },
  {
   "cell_type": "markdown",
   "id": "b4dc90ea-476d-42fd-af4c-916d2c2f1e42",
   "metadata": {},
   "source": [
    "###### Seems like there is a slightest relationship between family income and CGPA"
   ]
  },
  {
   "cell_type": "code",
   "execution_count": 175,
   "id": "8d374417-3180-48b8-a713-63895beb2902",
   "metadata": {},
   "outputs": [
    {
     "data": {
      "text/plain": [
       "Family Income\n",
       "0-2 Lakh    8.033525\n",
       "2-5 Lakh    8.115000\n",
       "5-7 Lakh    8.003750\n",
       "7 Lakh+     8.149438\n",
       "Name: CGPA, dtype: float64"
      ]
     },
     "execution_count": 175,
     "metadata": {},
     "output_type": "execute_result"
    }
   ],
   "source": [
    "Income_CGPA"
   ]
  },
  {
   "cell_type": "code",
   "execution_count": 176,
   "id": "01be583e-0b05-44d6-99f7-5c734bda1b81",
   "metadata": {},
   "outputs": [
    {
     "data": {
      "image/png": "[encoded data removed]",
      "text/plain": [
       "<Figure size 1000x600 with 1 Axes>"
      ]
     },
     "metadata": {},
     "output_type": "display_data"
    }
   ],
   "source": [
    "(Income_CGPA).plot(kind='bar', title = 'Income_CGPA', figsize = (10,6), cmap='Dark2', rot = 30);"
   ]
  },
  {
   "cell_type": "markdown",
   "id": "cc0e920b-b7e0-40be-ba1d-d885ba144781",
   "metadata": {},
   "source": [
    "##### Answer:\n",
    "There is not a much of a distance but students from a background of  having  a family income of 7+lahk  might score a little higher CGPA Comparitively "
   ]
  },
  {
   "cell_type": "code",
   "execution_count": null,
   "id": "5c39890a-4e1c-44e4-81cc-55f4543e9eee",
   "metadata": {},
   "outputs": [],
   "source": []
  }
 ],
 "metadata": {
  "kernelspec": {
   "display_name": "Python 3 (ipykernel)",
   "language": "python",
   "name": "python3"
  },
  "language_info": {
   "codemirror_mode": {
    "name": "ipython",
    "version": 3
   },
   "file_extension": ".py",
   "mimetype": "text/x-python",
   "name": "python",
   "nbconvert_exporter": "python",
   "pygments_lexer": "ipython3",
   "version": "3.11.7"
  }
 },
 "nbformat": 4,
 "nbformat_minor": 5
}
